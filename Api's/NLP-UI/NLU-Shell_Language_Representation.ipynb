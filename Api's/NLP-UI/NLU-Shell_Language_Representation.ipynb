{
 "cells": [
  {
   "cell_type": "markdown",
   "metadata": {},
   "source": [
    "# SiameseBert Semantic Sentence Similiarity"
   ]
  },
  {
   "cell_type": "code",
   "execution_count": 1,
   "metadata": {},
   "outputs": [
    {
     "output_type": "stream",
     "name": "stderr",
     "text": [
      "WARNING:root:You try to use a model that was created with version 0.3.3, however, your version is 0.2.6. This might cause unexpected behavior or errors. In that case, try to update to the latest version.\n\n\n\n"
     ]
    }
   ],
   "source": [
    "from sentence_transformers import SentenceTransformer\n",
    "\n",
    "# Load the BERT model. Various models trained on Natural Language Inference (NLI) https://github.com/UKPLab/sentence-transformers/blob/master/docs/pretrained-models/nli-models.md and \n",
    "# Semantic Textual Similarity are available https://github.com/UKPLab/sentence-transformers/blob/master/docs/pretrained-models/sts-models.md\n",
    "\n",
    "model = SentenceTransformer('xlm-r-100langs-bert-base-nli-stsb-mean-tokens')"
   ]
  },
  {
   "cell_type": "code",
   "execution_count": 2,
   "metadata": {},
   "outputs": [],
   "source": [
    "# # A corpus is a list with documents split by sentences.\n",
    "# sentences = ['clock', 'time', 'how many hours', 'minutes',\"date\",'date', 'calendar',\"schedule\",'timetable','plan','agenda','task list', 'things to do', 'todo list', 'work','music','play music', 'rythm','melody']\n",
    "# # Each sentence is encoded as a 1-D vector with 78 columns\n",
    "# sentence_embeddings = model.encode(sentences)\n",
    "\n",
    "# print('Sample BERT embedding vector - length', len(sentence_embeddings[0]))\n",
    "\n",
    "# print('Sample BERT embedding vector - note includes negative values', sentence_embeddings[0])\n",
    "import scipy\n",
    "import numpy as np\n",
    "# feature_db = { \"insane\":['Absence of sanity', 'Lack of saneness'],\n",
    "#                 \"rocket\" : ['Launch','Build']}\n",
    "# feature_db = { \"time\":['clock', 'time', 'how many hours', 'minutes',],\n",
    "# \t\t\"date\":['date', 'calendar',],\n",
    "# \t\t\"schedule\":['timetable','plan','agenda','task list', 'things to do', 'todo list','work'],\n",
    "# \t\t\"music\": ['music','play music', 'rythm','melody'],}\n",
    "feature_db = {\n",
    "\t\t\"time\":['time','clock','watch','deadline','how much time is the clock showing','what time zone are you following','what is the time right now',\"what's the time\",\"What time is it\",\"tell me the time\",'tell me time in london','tell me time in usa','tell me time in sydney right now','what is time in australia right now','right now','at this moment'],\n",
    "\n",
    "\t\t\"date\":[\"date\",\"occasion\",\"day\",\"month\",\"year\",'sunday','monday','tuesday','friday','wednesday',\"todays's date\",\"what day is it today\",\"what is the occasion today\",\"is there something special today\",\"why is there a public holiday tomorrow\",\"working day\",\"weekends\"],\n",
    "\n",
    "\t\t\"location\":[\"location\",\"where am i\",\"whats my location\",\"where am i right now exact address\",\"where am i ip\",\"where am i address\",\"where am i in the world\",\"olivia where am i\",\"where am i right now app\",\"what city am i in\",\"my address\",\"which area am i in\",'tell me where am i'],\n",
    "\n",
    "\t\t\"weather\":[\"how is weather today\",\"how is the weather in delhi\",\"is it raining today\",\"are clouds today\",\"weather\",\"how much is teamperature\",\"is humidity to high\",\"humidity\",\"temperature\",\"winds\",\"how fast are the winds\",\"sunny weather\",\"cloud weather\",\"humid atmosphere\",\"atomspheric pressure\"],\n",
    "\n",
    "\t\t\"alarm reminder\":[\"alarm\",\"reminder\",\"remind me to do\",\"alert for when this happens\",\"remind me after 1 hour to do this\",\"set a reminder for 10 am tomorrow\",\"set an alarm for today 11 am\"],\n",
    "\n",
    "\t\t\"schedule\" :[\"schedule\",\"plan\",\"agenda\",\"meeting\",\"deadline\",\"plan of action\",\"plan of work\",\"what the schedule for tomorrow\",\"whats the schedule for now\",\"set a meeting with abc at 2pm on thursday this week\"],\n",
    "\n",
    "\t\t\"music\":[\"music\",\"song\",\"bgm\",\"playlist\",\"play\",\"play music\",\"play kaho na kaho\", \"play Ooo.ohh..ooooo\", \"play pai papa pari parari ba pari\",\"I want to listen sonu's best songs\"],\n",
    "\n",
    "\t\t\"find information\": [\"find information\",\"find me info about this\",\"get me details on that\",\"find profile of nisha pankaj\",\"find every possible thing on elon musk\",\"find details about google company\",\"where did abhinav mishra study\",\"what is the total number of cases for today\",\"who is brother of kiara\",\"how many people died in blm\"],\n",
    "\n",
    "\t\t\"message\":[\"message\",\"chat\",\"whatsapp\",\"instagram dm\",\"message bob and tell him i'll be late\",\"inform mom to get dinner ready\",\"inform them to start\",\"inform neha that i am coming\",'chat with ajay and find what is he doing'],\n",
    "\t\t\n",
    "\t\t\"email\":[\"email\",\"mail\",\"email conversation\",\"gmail\",\"microsoft outlook\",\"email bob and tell him i'll be late\",\"mail manish to get ppt ready by tomorrow\",\"email paul and inform him to start\",\"email abc and do\",\"type a mail to bob\",\"send a mail to neha and inform about the updates\",\"email bob and inform him i'll be late\"],\n",
    "\n",
    "\t\t\"call\":['phone call',\"call mom and inform her i'll be late\",\"call puneet and tell him to sell it today\",\"call abc\",'handle my all calls and put the phone to bussy mode','address abc with details when you receive call from him','tell john to move when he calls','call','phone puneet and tell him to sell it today','phone abc','phone rebbecaa to inform her about'],\n",
    "\t\t\n",
    "\t\t\"features\":['feature list','what can you do','what are your utilities','tell me about your feature menu','what could you do for me','how good you are','who created you'],\n",
    "\n",
    "\t\t\"translation\":['translate','language translate','translate to german','translate to french','change to russion','translate this to english language','language translate'],\n",
    "#\t\t\"calculator\":[],\n",
    "#\t\t\"trending news\":[''],\t\n",
    "\t}\n",
    "\n",
    "\n",
    "feature_db_encoded = {}\n",
    "for key,v in feature_db.items():\n",
    "    feature_db_encoded[key]=model.encode(v)\n"
   ]
  },
  {
   "cell_type": "code",
   "execution_count": 6,
   "metadata": {},
   "outputs": [
    {
     "output_type": "execute_result",
     "data": {
      "text/plain": [
       "['schedule a meeting with',\n",
       " 'a meeting with xyz',\n",
       " 'meeting with xyz and',\n",
       " 'with xyz and set',\n",
       " 'xyz and set reminder',\n",
       " 'and set reminder in',\n",
       " 'set reminder in case',\n",
       " 'reminder in case i',\n",
       " 'in case i forget.']"
      ]
     },
     "metadata": {},
     "execution_count": 6
    }
   ],
   "source": [
    "n=4\n",
    "query=\"schedule a meeting with xyz and set reminder in case i forget.\"\n",
    "def n_gram_gen(n):\n",
    "    n_gram=[]\n",
    "    words=query.split(\" \")\n",
    "    for i in range(len(words)-n+1):\n",
    "        n_gram.append(' '.join(words[i:i+n]))\n",
    "    return n_gram\n",
    "n_gram=n_gram_gen(n)\n",
    "n_gram"
   ]
  },
  {
   "cell_type": "code",
   "execution_count": 7,
   "metadata": {},
   "outputs": [
    {
     "output_type": "execute_result",
     "data": {
      "text/plain": [
       "[('alarm reminder', 0.22915514861985556),\n",
       " ('schedule', 0.23382565411938083),\n",
       " ('location', 0.2702584080289576),\n",
       " ('message', 0.2746785922971736),\n",
       " ('time', 0.28920664010047986),\n",
       " ('find information', 0.30805807016384756),\n",
       " ('call', 0.3185568514351925),\n",
       " ('features', 0.3237562089396498),\n",
       " ('date', 0.3282701017431382),\n",
       " ('music', 0.4455524035879113),\n",
       " ('translation', 0.44661855267522466),\n",
       " ('email', 0.46677234532358897),\n",
       " ('weather', 0.5076121011773285)]"
      ]
     },
     "metadata": {},
     "execution_count": 7
    }
   ],
   "source": [
    "#@title Sematic Search Form\n",
    "\n",
    "# code adapted from https://github.com/UKPLab/sentence-transformers/blob/master/examples/application_semantic_search.py\n",
    "query_embedding = model.encode(n_gram)\n",
    "results=[]\n",
    "key_res=[]\n",
    "# distances = scipy.spatial.distance.cdist(query_embedding, feature_db_encoded['time'], \"cosine\")\n",
    "# print(distances)\n",
    "# print (np.transpose(distances))\n",
    "for key,value in feature_db_encoded.items():\n",
    "    key_enc = model.encode([key])\n",
    "    key_dist = scipy.spatial.distance.cdist(query_embedding, key_enc, \"cosine\")\n",
    "    distances = scipy.spatial.distance.cdist(query_embedding, value, \"correlation\")\n",
    "    distances = np.transpose(distances)\n",
    "    distances = [sorted(x) for x in distances]\n",
    "    distances = [np.mean(x[:int(len(n_gram)/2)]) for x in distances]\n",
    "    results.append(np.mean(distances)*np.mean(key_dist))\n",
    "    key_res.append(np.mean(key_dist))\n",
    "    # results.append(np.mean(distances))\n",
    "res=zip(list(feature_db.keys()),key_res)\n",
    "results = zip(list(feature_db.keys()), results)\n",
    "results = sorted(results, key=lambda x: x[1])\n",
    "results\n",
    "# results1=results\n",
    "# results1=[ [t[0],t[1]/results[-1][1]] for t in results1]\n",
    "# print (results1)"
   ]
  },
  {
   "cell_type": "code",
   "execution_count": 8,
   "metadata": {},
   "outputs": [
    {
     "output_type": "execute_result",
     "data": {
      "text/plain": [
       "[('location', 0.44735160251616624),\n",
       " ('find information', 0.48718177154872233),\n",
       " ('schedule', 0.4971556450784258),\n",
       " ('features', 0.502810785088071),\n",
       " ('time', 0.5128494136628485),\n",
       " ('call', 0.5152873730027063),\n",
       " ('message', 0.5386769134681312),\n",
       " ('date', 0.551721428204862),\n",
       " ('alarm reminder', 0.562697540625121),\n",
       " ('translation', 0.6465950535165081),\n",
       " ('weather', 0.6826417086204569),\n",
       " ('music', 0.7142249193649687),\n",
       " ('email', 0.729240557854202)]"
      ]
     },
     "metadata": {},
     "execution_count": 8
    }
   ],
   "source": [
    "res=sorted(res,key=lambda x:x[1])\n",
    "res"
   ]
  },
  {
   "cell_type": "code",
   "execution_count": null,
   "metadata": {},
   "outputs": [],
   "source": []
  }
 ],
 "metadata": {
  "kernelspec": {
   "display_name": "Python 3",
   "language": "python",
   "name": "python3"
  },
  "language_info": {
   "codemirror_mode": {
    "name": "ipython",
    "version": 3
   },
   "file_extension": ".py",
   "mimetype": "text/x-python",
   "name": "python",
   "nbconvert_exporter": "python",
   "pygments_lexer": "ipython3",
   "version": "3.7.7-final"
  }
 },
 "nbformat": 4,
 "nbformat_minor": 4
}