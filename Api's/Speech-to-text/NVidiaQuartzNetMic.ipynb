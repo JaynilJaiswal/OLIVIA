{
 "cells": [
  {
   "cell_type": "markdown",
   "metadata": {
    "colab": {
     "base_uri": "https://localhost:8080/"
    },
    "id": "gyHl_pAPX8i2",
    "outputId": "c0255d59-3e7c-47d8-fe87-0a6fa9769feb"
   },
   "source": [
    "### Run it on google colab here: https://drive.google.com/file/d/1rNTSnHcfc5VzT63WSA2BxlciLA5QSei9/view?usp=sharing"
   ]
  },
  {
   "cell_type": "code",
   "execution_count": 1,
   "metadata": {
    "colab": {
     "base_uri": "https://localhost:8080/"
    },
    "id": "gyHl_pAPX8i2",
    "outputId": "c0255d59-3e7c-47d8-fe87-0a6fa9769feb"
   },
   "outputs": [],
   "source": [
    "import os\n",
    "from os.path import exists, join, basename, splitext\n",
    "\n",
    "# !pip install wget youtube-dl wget tensorboardX kaldi-io marshmallow num2words ruamel.yaml soundfile sox torch-stft unidecode\n",
    "# !pip install nemo-toolkit==0.9.0 nemo-asr==0.9.0 #--no-deps\n",
    "\n",
    "# we need also Apex\n",
    "if not exists('apex'):\n",
    "    !git clone -q --depth 1 https://github.com/NVIDIA/apex\n",
    "    !cd apex && pip install --no-cache-dir ./\n",
    "    !pip install https://github.com/tugstugi/dl-colab-notebooks/archive/colab_utils.zip\n",
    "\n",
    "from IPython.display import Audio, display, clear_output\n",
    "import ipywidgets as widgets\n",
    "import numpy as np\n",
    "from scipy.io import wavfile\n",
    "# from dl_colab_notebooks.audio import record_audio, upload_audio"
   ]
  },
  {
   "cell_type": "markdown",
   "metadata": {
    "id": "T2vo8WzaYUsv"
   },
   "source": [
    "## Download pretrained weights"
   ]
  },
  {
   "cell_type": "code",
   "execution_count": 2,
   "metadata": {
    "colab": {
     "base_uri": "https://localhost:8080/"
    },
    "id": "ktXeABjLYb70",
    "outputId": "7611ab8a-bb63-469a-83b9-3b838af35693"
   },
   "outputs": [],
   "source": [
    "if not exists('quartznet15x5_multidataset'):\n",
    "  # download the pretrained weights\n",
    "  !wget -nc -q --show-progress -O quartznet15x5.zip https://api.ngc.nvidia.com/v2/models/nvidia/multidataset_quartznet15x5/versions/1/zip\n",
    "  !unzip quartznet15x5.zip && mkdir quartznet15x5_multidataset && mv Jasper* quartznet15x5.yaml quartznet15x5_multidataset"
   ]
  },
  {
   "cell_type": "markdown",
   "metadata": {
    "id": "RnWsQf3tca1s"
   },
   "source": [
    "## Initialize QuartzNet"
   ]
  },
  {
   "cell_type": "code",
   "execution_count": 2,
   "metadata": {
    "colab": {
     "base_uri": "https://localhost:8080/"
    },
    "id": "zr6MuuWYaZQk",
    "outputId": "379d3dca-87dd-4f55-d47d-2df2f69f51a0"
   },
   "outputs": [
    {
     "name": "stderr",
     "output_type": "stream",
     "text": [
      "################################################################################\n",
      "### WARNING, path does not exist: KALDI_ROOT=/mnt/matylda5/iveselyk/Tools/kaldi-trunk\n",
      "###          (please add 'export KALDI_ROOT=<your_path>' in your $HOME/.profile)\n",
      "###          (or run as: KALDI_ROOT=<your_path> python <your_script>.py)\n",
      "################################################################################\n",
      "\n",
      "/home/jaynil/miniconda3/envs/olivia/lib/python3.7/site-packages/torchaudio/backend/utils.py:54: UserWarning: \"sox\" backend is being deprecated. The default backend will be changed to \"sox_io\" backend in 0.8.0 and \"sox\" backend will be removed in 0.9.0. Please migrate to \"sox_io\" backend. Please refer to https://github.com/pytorch/audio/issues/903 for the detail.\n",
      "  '\"sox\" backend is being deprecated. '\n",
      "2020-12-22 20:44:25,349 - INFO - PADDING: 16\n"
     ]
    },
    {
     "name": "stdout",
     "output_type": "stream",
     "text": [
      "STFT using torch\n"
     ]
    }
   ],
   "source": [
    "import json\n",
    "from ruamel.yaml import YAML\n",
    "import nemo\n",
    "import nemo_asr\n",
    "\n",
    "WORK_DIR = \"quartznet15x5_multidataset\"\n",
    "MODEL_YAML = \"quartznet15x5_multidataset/quartznet15x5.yaml\"\n",
    "CHECKPOINT_ENCODER = \"quartznet15x5_multidataset/JasperEncoder-STEP-243800.pt\"\n",
    "CHECKPOINT_DECODER = \"quartznet15x5_multidataset/JasperDecoderForCTC-STEP-243800.pt\"\n",
    "# Set this to True to enable beam search decoder\n",
    "ENABLE_NGRAM = False\n",
    "# This is only necessary if ENABLE_NGRAM = True. Otherwise, set to empty string\n",
    "LM_PATH = \"<PATH_TO_KENLM_BINARY>\"\n",
    "\n",
    "# Read model YAML\n",
    "yaml = YAML(typ=\"safe\")\n",
    "with open(MODEL_YAML) as f:\n",
    "    jasper_model_definition = yaml.load(f)\n",
    "labels = jasper_model_definition['labels']\n",
    "\n",
    "# Instantiate necessary Neural Modules\n",
    "# Note that data layer is missing from here\n",
    "neural_factory = nemo.core.NeuralModuleFactory(\n",
    "    placement=nemo.core.DeviceType.GPU,\n",
    "    backend=nemo.core.Backend.PyTorch)\n",
    "data_preprocessor = nemo_asr.AudioToMelSpectrogramPreprocessor(factory=neural_factory)\n",
    "jasper_encoder = nemo_asr.JasperEncoder(\n",
    "    jasper=jasper_model_definition['JasperEncoder']['jasper'],\n",
    "    activation=jasper_model_definition['JasperEncoder']['activation'],\n",
    "    feat_in=jasper_model_definition['AudioToMelSpectrogramPreprocessor']['features'])\n",
    "jasper_encoder.restore_from(CHECKPOINT_ENCODER, local_rank=0)\n",
    "jasper_decoder = nemo_asr.JasperDecoderForCTC(\n",
    "    feat_in=1024,\n",
    "    num_classes=len(labels))\n",
    "jasper_decoder.restore_from(CHECKPOINT_DECODER, local_rank=0)\n",
    "greedy_decoder = nemo_asr.GreedyCTCDecoder()\n",
    "\n",
    "def wav_to_text(manifest, greedy=True):\n",
    "    from ruamel.yaml import YAML\n",
    "    yaml = YAML(typ=\"safe\")\n",
    "    with open(MODEL_YAML) as f:\n",
    "        jasper_model_definition = yaml.load(f)\n",
    "    labels = jasper_model_definition['labels']\n",
    "\n",
    "    # Instantiate necessary neural modules\n",
    "    data_layer = nemo_asr.AudioToTextDataLayer(\n",
    "        shuffle=False,\n",
    "        manifest_filepath=manifest,\n",
    "        labels=labels, batch_size=1)\n",
    "\n",
    "    # Define inference DAG\n",
    "    audio_signal, audio_signal_len, _, _ = data_layer()\n",
    "    processed_signal, processed_signal_len = data_preprocessor(\n",
    "        input_signal=audio_signal,\n",
    "        length=audio_signal_len)\n",
    "    encoded, encoded_len = jasper_encoder(audio_signal=processed_signal,\n",
    "                                          length=processed_signal_len)\n",
    "    log_probs = jasper_decoder(encoder_output=encoded)\n",
    "    predictions = greedy_decoder(log_probs=log_probs)\n",
    "\n",
    "    if ENABLE_NGRAM:\n",
    "        print('Running with beam search')\n",
    "        beam_predictions = beam_search_with_lm(\n",
    "            log_probs=log_probs, log_probs_length=encoded_len)\n",
    "        eval_tensors = [beam_predictions]\n",
    "\n",
    "    if greedy:\n",
    "        eval_tensors = [predictions]\n",
    "\n",
    "    tensors = neural_factory.infer(tensors=eval_tensors)\n",
    "    if greedy:\n",
    "        from nemo_asr.helpers import post_process_predictions\n",
    "        prediction = post_process_predictions(tensors[0], labels)\n",
    "    else:\n",
    "        prediction = tensors[0][0][0][0][1]\n",
    "    return prediction\n",
    "\n",
    "def create_manifest(file_path):\n",
    "    # create manifest\n",
    "    manifest = dict()\n",
    "    manifest['audio_filepath'] = file_path\n",
    "    manifest['duration'] = 18000\n",
    "    manifest['text'] = 'todo'\n",
    "    with open(file_path+\".json\", 'w') as fout:\n",
    "        fout.write(json.dumps(manifest))\n",
    "    return file_path+\".json\""
   ]
  },
  {
   "cell_type": "markdown",
   "metadata": {
    "id": "fwCAY_mbf66e"
   },
   "source": [
    "## Record or Upload Speech"
   ]
  },
  {
   "cell_type": "code",
   "execution_count": 15,
   "metadata": {
    "colab": {
     "base_uri": "https://localhost:8080/",
     "height": 333,
     "referenced_widgets": [
      "810181f3378d40bea751fb97096aab09",
      "a9d26172f2284c0aae5958ddaab5417b",
      "de4dcbe9f912469893f06f61ec0c979f"
     ]
    },
    "id": "LMp5dQ5ZbtBU",
    "outputId": "e0b60822-c306-486e-a149-64e1dbaa842e"
   },
   "outputs": [
    {
     "name": "stderr",
     "output_type": "stream",
     "text": [
      "2020-12-22 21:10:31,944 - INFO - Dataset loaded with 5.00 hours. Filtered 0.00 hours.\n",
      "2020-12-22 21:10:31,989 - INFO - Evaluating batch 0 out of 1\n"
     ]
    },
    {
     "name": "stdout",
     "output_type": "stream",
     "text": [
      "\n",
      "\n",
      "\n",
      "\n",
      "\n",
      "['this is jest one']\n"
     ]
    }
   ],
   "source": [
    "#markdown * Either record audio from microphone or upload audio from file (.mp3 or .wav) \n",
    "\n",
    "SAMPLE_RATE = 16000\n",
    "record_or_upload = \"Record\" #param [\"Record\", \"Upload (.mp3 or .wav)\"]\n",
    "record_seconds =   10 #param {type:\"number\", min:1, max:10, step:1}\n",
    "\n",
    "def _recognize():\n",
    "#   display(Audio(audio, rate=SAMPLE_RATE, autoplay=True))\n",
    "#   wavfile.write('test.wav', SAMPLE_RATE, (32767*audio).astype(np.int16))\n",
    "\n",
    "  print('\\n')\n",
    "  transcription = wav_to_text(create_manifest('test3.wav'))\n",
    "  print('\\n\\n')\n",
    "  print(transcription)\n",
    "\n",
    "9\n",
    "def _record_audio(b):\n",
    "  clear_output()\n",
    "  audio = record_audio(record_seconds, sample_rate=SAMPLE_RATE)\n",
    "  _recognize(audio)\n",
    "def _upload_audio(b):\n",
    "  clear_output()\n",
    "  audio = upload_audio(sample_rate=SAMPLE_RATE)\n",
    "  _recognize(audio)\n",
    "\n",
    "# if record_or_upload == \"Record\":\n",
    "#   button = widgets.Button(description=\"Record Speech\")\n",
    "#   button.on_click(_record_audio)\n",
    "#   display(button)\n",
    "# else:\n",
    "#   _upload_audio(\"\")\n",
    "_recognize()"
   ]
  },
  {
   "cell_type": "code",
   "execution_count": 4,
   "metadata": {
    "id": "I2vMMQQbGydO"
   },
   "outputs": [
    {
     "name": "stdout",
     "output_type": "stream",
     "text": [
      "True\n"
     ]
    }
   ],
   "source": [
    "import torch\n",
    "print(torch.cuda.is_available())"
   ]
  },
  {
   "cell_type": "code",
   "execution_count": 14,
   "metadata": {},
   "outputs": [],
   "source": [
    "import librosa\n",
    "data,sr = librosa.load('test1.wav',sr=16000)\n",
    "data=(data*32767).astype(np.int16)\n",
    "wavfile.write('test3.wav',16000,data)"
   ]
  },
  {
   "cell_type": "code",
   "execution_count": null,
   "metadata": {},
   "outputs": [],
   "source": []
  }
 ],
 "metadata": {
  "accelerator": "GPU",
  "colab": {
   "collapsed_sections": [
    "T2vo8WzaYUsv",
    "RnWsQf3tca1s"
   ],
   "name": "NVidiaQuartzNetMic.ipynb",
   "provenance": [],
   "toc_visible": true
  },
  "kernelspec": {
   "display_name": "Python 3",
   "language": "python",
   "name": "python3"
  },
  "language_info": {
   "codemirror_mode": {
    "name": "ipython",
    "version": 3
   },
   "file_extension": ".py",
   "mimetype": "text/x-python",
   "name": "python",
   "nbconvert_exporter": "python",
   "pygments_lexer": "ipython3",
   "version": "3.7.7"
  },
  "widgets": {
   "application/vnd.jupyter.widget-state+json": {
    "810181f3378d40bea751fb97096aab09": {
     "model_module": "@jupyter-widgets/controls",
     "model_name": "ButtonModel",
     "state": {
      "_dom_classes": [],
      "_model_module": "@jupyter-widgets/controls",
      "_model_module_version": "1.5.0",
      "_model_name": "ButtonModel",
      "_view_count": null,
      "_view_module": "@jupyter-widgets/controls",
      "_view_module_version": "1.5.0",
      "_view_name": "ButtonView",
      "button_style": "",
      "description": "Record Speech",
      "disabled": false,
      "icon": "",
      "layout": "IPY_MODEL_de4dcbe9f912469893f06f61ec0c979f",
      "style": "IPY_MODEL_a9d26172f2284c0aae5958ddaab5417b",
      "tooltip": ""
     }
    },
    "a9d26172f2284c0aae5958ddaab5417b": {
     "model_module": "@jupyter-widgets/controls",
     "model_name": "ButtonStyleModel",
     "state": {
      "_model_module": "@jupyter-widgets/controls",
      "_model_module_version": "1.5.0",
      "_model_name": "ButtonStyleModel",
      "_view_count": null,
      "_view_module": "@jupyter-widgets/base",
      "_view_module_version": "1.2.0",
      "_view_name": "StyleView",
      "button_color": null,
      "font_weight": ""
     }
    },
    "de4dcbe9f912469893f06f61ec0c979f": {
     "model_module": "@jupyter-widgets/base",
     "model_name": "LayoutModel",
     "state": {
      "_model_module": "@jupyter-widgets/base",
      "_model_module_version": "1.2.0",
      "_model_name": "LayoutModel",
      "_view_count": null,
      "_view_module": "@jupyter-widgets/base",
      "_view_module_version": "1.2.0",
      "_view_name": "LayoutView",
      "align_content": null,
      "align_items": null,
      "align_self": null,
      "border": null,
      "bottom": null,
      "display": null,
      "flex": null,
      "flex_flow": null,
      "grid_area": null,
      "grid_auto_columns": null,
      "grid_auto_flow": null,
      "grid_auto_rows": null,
      "grid_column": null,
      "grid_gap": null,
      "grid_row": null,
      "grid_template_areas": null,
      "grid_template_columns": null,
      "grid_template_rows": null,
      "height": null,
      "justify_content": null,
      "justify_items": null,
      "left": null,
      "margin": null,
      "max_height": null,
      "max_width": null,
      "min_height": null,
      "min_width": null,
      "object_fit": null,
      "object_position": null,
      "order": null,
      "overflow": null,
      "overflow_x": null,
      "overflow_y": null,
      "padding": null,
      "right": null,
      "top": null,
      "visibility": null,
      "width": null
     }
    }
   }
  }
 },
 "nbformat": 4,
 "nbformat_minor": 4
}
